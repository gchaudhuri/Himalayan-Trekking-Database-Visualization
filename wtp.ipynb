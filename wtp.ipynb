{
  "nbformat": 4,
  "nbformat_minor": 0,
  "metadata": {
    "colab": {
      "name": "wtp.ipynb",
      "provenance": [],
      "collapsed_sections": [],
      "mount_file_id": "1MgFO7pictEFvogse3iJfgoFGyjDmF0NN",
      "authorship_tag": "ABX9TyPbW9akuzDVPo+wniMAMuZ1",
      "include_colab_link": true
    },
    "kernelspec": {
      "name": "python3",
      "display_name": "Python 3"
    },
    "language_info": {
      "name": "python"
    }
  },
  "cells": [
    {
      "cell_type": "markdown",
      "metadata": {
        "id": "view-in-github",
        "colab_type": "text"
      },
      "source": [
        "<a href=\"https://colab.research.google.com/github/gchaudhuri/testwebpage/blob/main/wtp.ipynb\" target=\"_parent\"><img src=\"https://colab.research.google.com/assets/colab-badge.svg\" alt=\"Open In Colab\"/></a>"
      ]
    },
    {
      "cell_type": "code",
      "execution_count": 2,
      "metadata": {
        "id": "Ad5AncYqpMkl"
      },
      "outputs": [],
      "source": [
        "import numpy as np\n",
        "import pandas as pd\n",
        "import matplotlib.pyplot as plt\n",
        "import seaborn as sns\n",
        "import statsmodels.api as sm "
      ]
    },
    {
      "cell_type": "code",
      "source": [
        "from google.colab import drive\n",
        "drive.mount('/content/drive')\n",
        "\n",
        "df = pd.read_csv(\"drive/MyDrive/from_nathan/Data and Code_Brynjolfsson_Eggers_Gannamaneni/Data and Code/Data.csv\")\n",
        "df.head()"
      ],
      "metadata": {
        "id": "M65u9ZyRqHs1",
        "colab": {
          "base_uri": "https://localhost:8080/",
          "height": 223
        },
        "outputId": "ec48ae6f-089c-44cb-da35-544483d053c1"
      },
      "execution_count": 3,
      "outputs": [
        {
          "output_type": "stream",
          "name": "stdout",
          "text": [
            "Drive already mounted at /content/drive; to attempt to forcibly remount, call drive.mount(\"/content/drive\", force_remount=True).\n"
          ]
        },
        {
          "output_type": "execute_result",
          "data": {
            "text/plain": [
              "    Category     User ID  E  Accept_E\n",
              "0  Wikipedia  1002202083  1         1\n",
              "1  Wikipedia  1012015229  1         0\n",
              "2  Wikipedia   101305686  1         0\n",
              "3  Wikipedia  1018176924  1         1\n",
              "4  Wikipedia  1024612669  1         0"
            ],
            "text/html": [
              "\n",
              "  <div id=\"df-2b22c555-c709-4923-8982-d9cd0e046678\">\n",
              "    <div class=\"colab-df-container\">\n",
              "      <div>\n",
              "<style scoped>\n",
              "    .dataframe tbody tr th:only-of-type {\n",
              "        vertical-align: middle;\n",
              "    }\n",
              "\n",
              "    .dataframe tbody tr th {\n",
              "        vertical-align: top;\n",
              "    }\n",
              "\n",
              "    .dataframe thead th {\n",
              "        text-align: right;\n",
              "    }\n",
              "</style>\n",
              "<table border=\"1\" class=\"dataframe\">\n",
              "  <thead>\n",
              "    <tr style=\"text-align: right;\">\n",
              "      <th></th>\n",
              "      <th>Category</th>\n",
              "      <th>User ID</th>\n",
              "      <th>E</th>\n",
              "      <th>Accept_E</th>\n",
              "    </tr>\n",
              "  </thead>\n",
              "  <tbody>\n",
              "    <tr>\n",
              "      <th>0</th>\n",
              "      <td>Wikipedia</td>\n",
              "      <td>1002202083</td>\n",
              "      <td>1</td>\n",
              "      <td>1</td>\n",
              "    </tr>\n",
              "    <tr>\n",
              "      <th>1</th>\n",
              "      <td>Wikipedia</td>\n",
              "      <td>1012015229</td>\n",
              "      <td>1</td>\n",
              "      <td>0</td>\n",
              "    </tr>\n",
              "    <tr>\n",
              "      <th>2</th>\n",
              "      <td>Wikipedia</td>\n",
              "      <td>101305686</td>\n",
              "      <td>1</td>\n",
              "      <td>0</td>\n",
              "    </tr>\n",
              "    <tr>\n",
              "      <th>3</th>\n",
              "      <td>Wikipedia</td>\n",
              "      <td>1018176924</td>\n",
              "      <td>1</td>\n",
              "      <td>1</td>\n",
              "    </tr>\n",
              "    <tr>\n",
              "      <th>4</th>\n",
              "      <td>Wikipedia</td>\n",
              "      <td>1024612669</td>\n",
              "      <td>1</td>\n",
              "      <td>0</td>\n",
              "    </tr>\n",
              "  </tbody>\n",
              "</table>\n",
              "</div>\n",
              "      <button class=\"colab-df-convert\" onclick=\"convertToInteractive('df-2b22c555-c709-4923-8982-d9cd0e046678')\"\n",
              "              title=\"Convert this dataframe to an interactive table.\"\n",
              "              style=\"display:none;\">\n",
              "        \n",
              "  <svg xmlns=\"http://www.w3.org/2000/svg\" height=\"24px\"viewBox=\"0 0 24 24\"\n",
              "       width=\"24px\">\n",
              "    <path d=\"M0 0h24v24H0V0z\" fill=\"none\"/>\n",
              "    <path d=\"M18.56 5.44l.94 2.06.94-2.06 2.06-.94-2.06-.94-.94-2.06-.94 2.06-2.06.94zm-11 1L8.5 8.5l.94-2.06 2.06-.94-2.06-.94L8.5 2.5l-.94 2.06-2.06.94zm10 10l.94 2.06.94-2.06 2.06-.94-2.06-.94-.94-2.06-.94 2.06-2.06.94z\"/><path d=\"M17.41 7.96l-1.37-1.37c-.4-.4-.92-.59-1.43-.59-.52 0-1.04.2-1.43.59L10.3 9.45l-7.72 7.72c-.78.78-.78 2.05 0 2.83L4 21.41c.39.39.9.59 1.41.59.51 0 1.02-.2 1.41-.59l7.78-7.78 2.81-2.81c.8-.78.8-2.07 0-2.86zM5.41 20L4 18.59l7.72-7.72 1.47 1.35L5.41 20z\"/>\n",
              "  </svg>\n",
              "      </button>\n",
              "      \n",
              "  <style>\n",
              "    .colab-df-container {\n",
              "      display:flex;\n",
              "      flex-wrap:wrap;\n",
              "      gap: 12px;\n",
              "    }\n",
              "\n",
              "    .colab-df-convert {\n",
              "      background-color: #E8F0FE;\n",
              "      border: none;\n",
              "      border-radius: 50%;\n",
              "      cursor: pointer;\n",
              "      display: none;\n",
              "      fill: #1967D2;\n",
              "      height: 32px;\n",
              "      padding: 0 0 0 0;\n",
              "      width: 32px;\n",
              "    }\n",
              "\n",
              "    .colab-df-convert:hover {\n",
              "      background-color: #E2EBFA;\n",
              "      box-shadow: 0px 1px 2px rgba(60, 64, 67, 0.3), 0px 1px 3px 1px rgba(60, 64, 67, 0.15);\n",
              "      fill: #174EA6;\n",
              "    }\n",
              "\n",
              "    [theme=dark] .colab-df-convert {\n",
              "      background-color: #3B4455;\n",
              "      fill: #D2E3FC;\n",
              "    }\n",
              "\n",
              "    [theme=dark] .colab-df-convert:hover {\n",
              "      background-color: #434B5C;\n",
              "      box-shadow: 0px 1px 3px 1px rgba(0, 0, 0, 0.15);\n",
              "      filter: drop-shadow(0px 1px 2px rgba(0, 0, 0, 0.3));\n",
              "      fill: #FFFFFF;\n",
              "    }\n",
              "  </style>\n",
              "\n",
              "      <script>\n",
              "        const buttonEl =\n",
              "          document.querySelector('#df-2b22c555-c709-4923-8982-d9cd0e046678 button.colab-df-convert');\n",
              "        buttonEl.style.display =\n",
              "          google.colab.kernel.accessAllowed ? 'block' : 'none';\n",
              "\n",
              "        async function convertToInteractive(key) {\n",
              "          const element = document.querySelector('#df-2b22c555-c709-4923-8982-d9cd0e046678');\n",
              "          const dataTable =\n",
              "            await google.colab.kernel.invokeFunction('convertToInteractive',\n",
              "                                                     [key], {});\n",
              "          if (!dataTable) return;\n",
              "\n",
              "          const docLinkHtml = 'Like what you see? Visit the ' +\n",
              "            '<a target=\"_blank\" href=https://colab.research.google.com/notebooks/data_table.ipynb>data table notebook</a>'\n",
              "            + ' to learn more about interactive tables.';\n",
              "          element.innerHTML = '';\n",
              "          dataTable['output_type'] = 'display_data';\n",
              "          await google.colab.output.renderOutput(dataTable, element);\n",
              "          const docLink = document.createElement('div');\n",
              "          docLink.innerHTML = docLinkHtml;\n",
              "          element.appendChild(docLink);\n",
              "        }\n",
              "      </script>\n",
              "    </div>\n",
              "  </div>\n",
              "  "
            ]
          },
          "metadata": {},
          "execution_count": 3
        }
      ]
    },
    {
      "cell_type": "code",
      "source": [
        "print(df.dtypes)\n",
        "print(df.count) # number of rows"
      ],
      "metadata": {
        "colab": {
          "base_uri": "https://localhost:8080/"
        },
        "id": "GHw2eZ0NqoXe",
        "outputId": "4e153f81-01f5-4dbf-b3c7-e94b567fa4eb"
      },
      "execution_count": 4,
      "outputs": [
        {
          "output_type": "stream",
          "name": "stdout",
          "text": [
            "Category    object\n",
            "User ID      int64\n",
            "E            int64\n",
            "Accept_E     int64\n",
            "dtype: object\n",
            "<bound method DataFrame.count of        Category     User ID      E  Accept_E\n",
            "0     Wikipedia  1002202083      1         1\n",
            "1     Wikipedia  1012015229      1         0\n",
            "2     Wikipedia   101305686      1         0\n",
            "3     Wikipedia  1018176924      1         1\n",
            "4     Wikipedia  1024612669      1         0\n",
            "...         ...         ...    ...       ...\n",
            "8509  Wikipedia   981844036  50000         0\n",
            "8510  Wikipedia   986385267  50000         0\n",
            "8511  Wikipedia   987992969  50000         1\n",
            "8512  Wikipedia   997419601  50000         0\n",
            "8513  Wikipedia   997938626  50000         1\n",
            "\n",
            "[8514 rows x 4 columns]>\n"
          ]
        }
      ]
    },
    {
      "cell_type": "code",
      "source": [
        "sns.regplot(x = df['E'], y = df['Accept_E'], data = df, logistic=True, ci=95) # confidence interval none.\n",
        "plt.show()"
      ],
      "metadata": {
        "colab": {
          "base_uri": "https://localhost:8080/",
          "height": 279
        },
        "id": "VHn6xU5sq5rz",
        "outputId": "accad12a-077d-4370-c173-5b6f7b23b654"
      },
      "execution_count": 5,
      "outputs": [
        {
          "output_type": "display_data",
          "data": {
            "text/plain": [
              "<Figure size 432x288 with 1 Axes>"
            ],
            "image/png": "[encoded data removed]"
          },
          "metadata": {
            "needs_background": "light"
          }
        }
      ]
    },
    {
      "cell_type": "code",
      "source": [
        "# Setting up data\n",
        "\n",
        "x = np.log(df['E'])\n",
        "y = 1-df['Accept_E']"
      ],
      "metadata": {
        "id": "UM4_fYygr_F4"
      },
      "execution_count": 6,
      "outputs": []
    },
    {
      "cell_type": "code",
      "source": [
        "## Running logit model \n",
        "\n",
        "from statsmodels.formula.api import logit\n",
        "\n",
        "np.random.seed(1)\n",
        "\n",
        "formula_wtp = ('y ~ x')\n",
        "model = logit(formula=formula_wtp, data = df).fit()\n",
        "model.summary() # results match with Eggers original results"
      ],
      "metadata": {
        "colab": {
          "base_uri": "https://localhost:8080/",
          "height": 304
        },
        "id": "Owv2nTYEGCnD",
        "outputId": "2896bdfc-f7f1-4d62-86a3-d54da5abb157"
      },
      "execution_count": 7,
      "outputs": [
        {
          "output_type": "stream",
          "name": "stdout",
          "text": [
            "Optimization terminated successfully.\n",
            "         Current function value: 0.644479\n",
            "         Iterations 5\n"
          ]
        },
        {
          "output_type": "execute_result",
          "data": {
            "text/plain": [
              "<class 'statsmodels.iolib.summary.Summary'>\n",
              "\"\"\"\n",
              "                           Logit Regression Results                           \n",
              "==============================================================================\n",
              "Dep. Variable:                      y   No. Observations:                 8514\n",
              "Model:                          Logit   Df Residuals:                     8512\n",
              "Method:                           MLE   Df Model:                            1\n",
              "Date:                Wed, 31 Aug 2022   Pseudo R-squ.:                 0.06951\n",
              "Time:                        04:11:57   Log-Likelihood:                -5487.1\n",
              "converged:                       True   LL-Null:                       -5897.0\n",
              "Covariance Type:            nonrobust   LLR p-value:                2.717e-180\n",
              "==============================================================================\n",
              "                 coef    std err          z      P>|z|      [0.025      0.975]\n",
              "------------------------------------------------------------------------------\n",
              "Intercept      1.1517      0.050     23.145      0.000       1.054       1.249\n",
              "x             -0.2298      0.009    -26.983      0.000      -0.247      -0.213\n",
              "==============================================================================\n",
              "\"\"\""
            ],
            "text/html": [
              "<table class=\"simpletable\">\n",
              "<caption>Logit Regression Results</caption>\n",
              "<tr>\n",
              "  <th>Dep. Variable:</th>           <td>y</td>        <th>  No. Observations:  </th>   <td>  8514</td>  \n",
              "</tr>\n",
              "<tr>\n",
              "  <th>Model:</th>                 <td>Logit</td>      <th>  Df Residuals:      </th>   <td>  8512</td>  \n",
              "</tr>\n",
              "<tr>\n",
              "  <th>Method:</th>                 <td>MLE</td>       <th>  Df Model:          </th>   <td>     1</td>  \n",
              "</tr>\n",
              "<tr>\n",
              "  <th>Date:</th>            <td>Wed, 31 Aug 2022</td> <th>  Pseudo R-squ.:     </th>   <td>0.06951</td> \n",
              "</tr>\n",
              "<tr>\n",
              "  <th>Time:</th>                <td>04:11:57</td>     <th>  Log-Likelihood:    </th>  <td> -5487.1</td> \n",
              "</tr>\n",
              "<tr>\n",
              "  <th>converged:</th>             <td>True</td>       <th>  LL-Null:           </th>  <td> -5897.0</td> \n",
              "</tr>\n",
              "<tr>\n",
              "  <th>Covariance Type:</th>     <td>nonrobust</td>    <th>  LLR p-value:       </th> <td>2.717e-180</td>\n",
              "</tr>\n",
              "</table>\n",
              "<table class=\"simpletable\">\n",
              "<tr>\n",
              "      <td></td>         <th>coef</th>     <th>std err</th>      <th>z</th>      <th>P>|z|</th>  <th>[0.025</th>    <th>0.975]</th>  \n",
              "</tr>\n",
              "<tr>\n",
              "  <th>Intercept</th> <td>    1.1517</td> <td>    0.050</td> <td>   23.145</td> <td> 0.000</td> <td>    1.054</td> <td>    1.249</td>\n",
              "</tr>\n",
              "<tr>\n",
              "  <th>x</th>         <td>   -0.2298</td> <td>    0.009</td> <td>  -26.983</td> <td> 0.000</td> <td>   -0.247</td> <td>   -0.213</td>\n",
              "</tr>\n",
              "</table>"
            ]
          },
          "metadata": {},
          "execution_count": 7
        }
      ]
    },
    {
      "cell_type": "code",
      "source": [
        "# odds ratio\n",
        "print(np.exp(model.params))\n",
        "\n",
        "# average marginal effects (ame)\n",
        "ame=model.get_margeff(at='overall', method='dydx')\n",
        "print(ame.summary())"
      ],
      "metadata": {
        "colab": {
          "base_uri": "https://localhost:8080/"
        },
        "id": "I4NrzWhLK5s_",
        "outputId": "0fdde559-bf37-4c6c-e9c2-fc88c9e78132"
      },
      "execution_count": 8,
      "outputs": [
        {
          "output_type": "stream",
          "name": "stdout",
          "text": [
            "Intercept    3.163434\n",
            "x            0.794679\n",
            "dtype: float64\n",
            "        Logit Marginal Effects       \n",
            "=====================================\n",
            "Dep. Variable:                      y\n",
            "Method:                          dydx\n",
            "At:                           overall\n",
            "==============================================================================\n",
            "                dy/dx    std err          z      P>|z|      [0.025      0.975]\n",
            "------------------------------------------------------------------------------\n",
            "x             -0.0521      0.002    -32.691      0.000      -0.055      -0.049\n",
            "==============================================================================\n"
          ]
        }
      ]
    },
    {
      "cell_type": "code",
      "source": [
        "def median_wta(model):\n",
        " median_wta = -model.params[0]/model.params[1]\n",
        " return median_wta"
      ],
      "metadata": {
        "id": "wXmjev1vaFzd"
      },
      "execution_count": 9,
      "outputs": []
    },
    {
      "cell_type": "code",
      "source": [
        " blogit0 = logit(formula=formula_wtp, data = df).fit()"
      ],
      "metadata": {
        "colab": {
          "base_uri": "https://localhost:8080/"
        },
        "id": "RbuW19uziqnO",
        "outputId": "819bc9a1-a6ec-4d33-a6fb-2aebe6feb72e"
      },
      "execution_count": 10,
      "outputs": [
        {
          "output_type": "stream",
          "name": "stdout",
          "text": [
            "Optimization terminated successfully.\n",
            "         Current function value: 0.644479\n",
            "         Iterations 5\n"
          ]
        }
      ]
    },
    {
      "cell_type": "code",
      "source": [
        "wta_blogit0 = median_wta(blogit0)\n",
        "print(wta_blogit0)"
      ],
      "metadata": {
        "colab": {
          "base_uri": "https://localhost:8080/"
        },
        "id": "mQzuNVjPiuVZ",
        "outputId": "de8ce1c2-f7d1-44a5-cb95-848b2682d6c9"
      },
      "execution_count": 11,
      "outputs": [
        {
          "output_type": "stream",
          "name": "stdout",
          "text": [
            "5.011205597161743\n"
          ]
        }
      ]
    },
    {
      "cell_type": "code",
      "source": [
        "# WTA\n",
        "np.exp(wta_blogit0)"
      ],
      "metadata": {
        "colab": {
          "base_uri": "https://localhost:8080/"
        },
        "id": "WUE2x5j4sB9b",
        "outputId": "d2fe9e94-b193-4231-b349-bbc3b206a3f8"
      },
      "execution_count": 12,
      "outputs": [
        {
          "output_type": "execute_result",
          "data": {
            "text/plain": [
              "150.0855698578799"
            ]
          },
          "metadata": {},
          "execution_count": 12
        }
      ]
    },
    {
      "cell_type": "code",
      "source": [
        "blogit_orig_coef = pd.DataFrame(columns=['Intercept', 'X Coef'])\n",
        "blogit_orig_wta = pd.DataFrame(columns=['WTA'])\n",
        "\n",
        "blogit0 = logit(formula=formula_wtp, data = df).fit()# in R code its just model not fit\n",
        "blogit_orig_coef = blogit_orig_coef.append({'Intercept':  blogit0.params[0], 'X Coef': blogit0.params[1]}, ignore_index=True)\n",
        "wta_blogit0 = median_wta(blogit0)\n",
        "blogit_orig_wta = blogit_orig_wta.append({'WTA':  wta_blogit0}, ignore_index=True)\n",
        "orig_result = pd.concat([blogit_orig_wta, blogit_orig_coef], axis=1)\n",
        "print('Original Result:', orig_result)"
      ],
      "metadata": {
        "colab": {
          "base_uri": "https://localhost:8080/"
        },
        "id": "EBqZ-z0wImQl",
        "outputId": "02fd6f68-244e-4903-e322-9706298c4d48"
      },
      "execution_count": 22,
      "outputs": [
        {
          "output_type": "stream",
          "name": "stdout",
          "text": [
            "Optimization terminated successfully.\n",
            "         Current function value: 0.644479\n",
            "         Iterations 5\n",
            "Original Result:         WTA  Intercept    X Coef\n",
            "0  5.011206   1.151658 -0.229817\n"
          ]
        }
      ]
    },
    {
      "cell_type": "code",
      "source": [
        "from statsmodels.formula.api import logit\n",
        "from sklearn.utils import resample\n",
        "\n",
        "boot_sample = resample(df, replace=True, n_samples=1000, random_state=1)\n",
        "boot_sample.info"
      ],
      "metadata": {
        "id": "YXOW2k9U36xP"
      },
      "execution_count": null,
      "outputs": []
    },
    {
      "cell_type": "code",
      "source": [
        "blogit0_result =  np.vstack((wta_blogit0, blogit0.params[0], blogit0.params[1]))\n",
        "print('\\n wta intercept:', blogit0_result[0], \n",
        "      '\\n model intercept:', blogit0_result[1], \n",
        "      '\\n x coef:', blogit0_result[2])"
      ],
      "metadata": {
        "colab": {
          "base_uri": "https://localhost:8080/"
        },
        "id": "EIduNA5lkBaf",
        "outputId": "5c1343ad-3ccc-4066-f052-6f42136004a7"
      },
      "execution_count": 14,
      "outputs": [
        {
          "output_type": "stream",
          "name": "stdout",
          "text": [
            "\n",
            " wta intercept: [5.0112056] \n",
            " model intercept: [1.15165828] \n",
            " x coef: [-0.22981661]\n"
          ]
        }
      ]
    },
    {
      "cell_type": "code",
      "source": [
        "from operator import truediv\n",
        "blogit_boot_coef = pd.DataFrame(columns=['Intercept', 'X Coef'])\n",
        "blogit_boot_wta = pd.DataFrame(columns=['WTA'])\n",
        "\n",
        "n_iterations = 1000  #No. of bootstrap samples to be repeated (created)\n",
        "n_size = 1000\n",
        "\n",
        "draws = 1000\n",
        "for i in range(draws):\n",
        "  boot_sample = df.sample(n=df.shape[0], replace=True) \n",
        "  y_boot = 1-boot_sample['Accept_E']\n",
        "  x_boot = np.log(boot_sample['E'])\n",
        "  formula_boot = 'y_boot ~ x_boot' \n",
        "  blogit_boot = logit(formula=formula_boot, data = boot_sample).fit()\n",
        "  blogit_boot_coef = blogit_boot_coef.append({'Intercept':  blogit_boot.params[0], 'X Coef': blogit_boot.params[1]}, ignore_index=True)\n",
        "  wta_boot = median_wta(blogit_boot)\n",
        "  blogit_boot_wta = blogit_boot_wta.append({'WTA':  wta_boot}, ignore_index=True)\n",
        "\n",
        "boot_result = pd.concat([blogit_boot_wta, blogit_boot_coef], axis=1)\n"
      ],
      "metadata": {
        "id": "vkcVqlZ6sNyU"
      },
      "execution_count": null,
      "outputs": []
    },
    {
      "cell_type": "code",
      "source": [
        "boot_result.head()"
      ],
      "metadata": {
        "id": "mCjbP9f7lUHz"
      },
      "execution_count": null,
      "outputs": []
    },
    {
      "cell_type": "code",
      "source": [
        "from pandas.core.dtypes.cast import astype_array\n",
        "boot_result_mean = boot_result.mean(axis = 0, skipna = True)\n",
        "print(boot_result_mean)\n",
        "boot_result_sd = boot_result.std(axis = 0, skipna = True)\n",
        "print(boot_result_sd)\n",
        "\n",
        "bias = orig_result - boot_result_mean\n",
        "print(bias)\n",
        "\n",
        "ci_WTA = pd.DataFrame()\n",
        "ci95_hi_wta = boot_result_mean.iloc[0] + 1.96* boot_result_sd.iloc[0]\n",
        "ci95_lo_wta = boot_result_mean.iloc[0] - 1.96* boot_result_sd.iloc[0]\n",
        "ci_WTA = ci_WTA.assign(hi=np.array(ci95_hi_wta)) not working\n",
        "ci_WTA = ci_WTA.assign(lo=np.array(ci95_lo_wta))\n",
        "print('WTA CI 95%:', ci95_hi_wta, ci95_lo_wta)\n",
        "print(ci_WTA)"
      ],
      "metadata": {
        "colab": {
          "base_uri": "https://localhost:8080/"
        },
        "id": "EPlhD-XuGEhY",
        "outputId": "25f5ff47-b364-4fcd-ceee-90eab1a56a52"
      },
      "execution_count": 77,
      "outputs": [
        {
          "output_type": "stream",
          "name": "stdout",
          "text": [
            "WTA          5.007723\n",
            "Intercept    1.150656\n",
            "X Coef      -0.229767\n",
            "dtype: float64\n",
            "WTA          0.098130\n",
            "Intercept    0.049911\n",
            "X Coef       0.008670\n",
            "dtype: float64\n",
            "        WTA  Intercept    X Coef\n",
            "0  0.003483   0.001003 -0.000049\n",
            "WTA CI 95%: 5.2000570855152235 4.815388034919761\n",
            "Empty DataFrame\n",
            "Columns: [hi, lo]\n",
            "Index: []\n"
          ]
        }
      ]
    },
    {
      "cell_type": "code",
      "source": [
        "\n",
        "type(ci95_lo_wta)\n",
        "ci_WTA = []\n",
        "ci_WTA = ci_WTA.append(ci95_hi_wta.tolist)\n",
        "ci_WTA = ci_WTA.append(ci95_lo_wta.tolist)\n",
        "print(ci_WTA)\n",
        "#ci_WTA = np.concatenate((ci95_hi_wta, ci95_lo_wta))"
      ],
      "metadata": {
        "colab": {
          "base_uri": "https://localhost:8080/",
          "height": 235
        },
        "id": "Dqpaz_kMK1uo",
        "outputId": "0d5bb39a-b50b-4483-9ada-ce40da6ff99f"
      },
      "execution_count": 62,
      "outputs": [
        {
          "output_type": "error",
          "ename": "AttributeError",
          "evalue": "ignored",
          "traceback": [
            "\u001b[0;31m---------------------------------------------------------------------------\u001b[0m",
            "\u001b[0;31mAttributeError\u001b[0m                            Traceback (most recent call last)",
            "\u001b[0;32m<ipython-input-62-1840ea43a3a0>\u001b[0m in \u001b[0;36m<module>\u001b[0;34m\u001b[0m\n\u001b[1;32m      2\u001b[0m \u001b[0mci_WTA\u001b[0m \u001b[0;34m=\u001b[0m \u001b[0;34m[\u001b[0m\u001b[0;34m]\u001b[0m\u001b[0;34m\u001b[0m\u001b[0;34m\u001b[0m\u001b[0m\n\u001b[1;32m      3\u001b[0m \u001b[0mci_WTA\u001b[0m \u001b[0;34m=\u001b[0m \u001b[0mci_WTA\u001b[0m\u001b[0;34m.\u001b[0m\u001b[0mappend\u001b[0m\u001b[0;34m(\u001b[0m\u001b[0mci95_hi_wta\u001b[0m\u001b[0;34m.\u001b[0m\u001b[0mtolist\u001b[0m\u001b[0;34m)\u001b[0m\u001b[0;34m\u001b[0m\u001b[0;34m\u001b[0m\u001b[0m\n\u001b[0;32m----> 4\u001b[0;31m \u001b[0mci_WTA\u001b[0m \u001b[0;34m=\u001b[0m \u001b[0mci_WTA\u001b[0m\u001b[0;34m.\u001b[0m\u001b[0mappend\u001b[0m\u001b[0;34m(\u001b[0m\u001b[0mci95_lo_wta\u001b[0m\u001b[0;34m.\u001b[0m\u001b[0mtolist\u001b[0m\u001b[0;34m)\u001b[0m\u001b[0;34m\u001b[0m\u001b[0;34m\u001b[0m\u001b[0m\n\u001b[0m\u001b[1;32m      5\u001b[0m \u001b[0mprint\u001b[0m\u001b[0;34m(\u001b[0m\u001b[0mci_WTA\u001b[0m\u001b[0;34m)\u001b[0m\u001b[0;34m\u001b[0m\u001b[0;34m\u001b[0m\u001b[0m\n\u001b[1;32m      6\u001b[0m \u001b[0;31m#ci_WTA = np.concatenate((ci95_hi_wta, ci95_lo_wta))\u001b[0m\u001b[0;34m\u001b[0m\u001b[0;34m\u001b[0m\u001b[0;34m\u001b[0m\u001b[0m\n",
            "\u001b[0;31mAttributeError\u001b[0m: 'NoneType' object has no attribute 'append'"
          ]
        }
      ]
    },
    {
      "cell_type": "code",
      "source": [
        "from statsmodels.formula.api import logit\n",
        "from sklearn.utils import resample\n",
        "\n",
        "blogit_orig_coef = pd.DataFrame(columns=['Intercept', 'X Coef'])\n",
        "blogit_orig_wta = pd.DataFrame(columns=['WTA'])\n",
        "blogit_boot_coef = pd.DataFrame(columns=['Intercept', 'X Coef'])\n",
        "blogit_boot_wta = pd.DataFrame(columns=['WTA'])\n",
        "\n",
        "def bootstrap_model(draws, data, formula):\n",
        "    # original solution\n",
        "  blogit0 = logit(formula=formula_wtp, data = df).fit()# in R code its just model not fit\n",
        "  blogit_orig_coef = blogit_orig_coef.append({'Intercept':  blogit0.params[0], 'X Coef': blogit0.params[1]}, ignore_index=True)\n",
        "  wta_blogit0 = median_wta(blogit0)\n",
        "  blogit_orig_wta = blogit_orig_wta.append({'WTA':  wta_blogit0}, ignore_index=True)\n",
        "  orig_result = pd.concat([blogit_orig_wta, blogit_orig_coef], axis=1)\n",
        "  print('Original Result:', orig_result)\n",
        "  \n",
        "  for i in range(draws):\n",
        "    boot_sample = df.sample(n=df.shape[0], replace=True)\n",
        "    y_boot = 1-boot_sample['Accept_E']\n",
        "    x_boot = np.log(boot_sample['E'])\n",
        "    formula_boot = 'y_boot ~ x_boot' \n",
        "    blogit_boot = logit(formula=formula_boot, data = boot_sample).fit()\n",
        "    blogit_boot_coef = blogit_boot_coef.append({'Intercept':  blogit_boot.params[0], 'X Coef': blogit_boot.params[1]}, ignore_index=True)\n",
        "    wta_boot = median_wta(blogit_boot)\n",
        "    blogit_boot_wta = blogit_boot_wta.append({'WTA':  wta_boot}, ignore_index=True)\n",
        "\n",
        "  boot_result = pd.concat([blogit_boot_wta, blogit_boot_coef], axis=1)\n",
        "  boot_result_mean = boot_result.mean(axis = 0, skipna = True)\n",
        "  boot_result_sd = boot_result.std(axis = 0, skipna = True)\n",
        "  bias = orig_result - boot_result_mean\n",
        "  ci_WTA <- c(boot.result.mean[1] - 1.96 * boot.result.sd[1], boot.result.mean[1] + 1.96 * boot.result.sd[1])\n",
        "  \n",
        "  lst <- list(boot = boot.result, bias = bias, sd = boot.result.sd, CI = ci_WTA, orig = orig.result)\n",
        "  return(lst)\n",
        "}\n"
      ],
      "metadata": {
        "id": "V2ZgEdCWg97i"
      },
      "execution_count": null,
      "outputs": []
    }
  ]
}